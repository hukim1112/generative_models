{
 "cells": [
  {
   "cell_type": "markdown",
   "metadata": {},
   "source": [
    "# Conditional gan"
   ]
  },
  {
   "cell_type": "code",
   "execution_count": null,
   "metadata": {},
   "outputs": [],
   "source": [
    "from __future__ import absolute_import\n",
    "from __future__ import division\n",
    "from __future__ import print_function\n",
    "\n",
    "%matplotlib inline\n",
    "import matplotlib.pyplot as plt\n",
    "import numpy as np\n",
    "import time\n",
    "import functools\n",
    "\n",
    "import tensorflow as tf\n",
    "\n",
    "# Main TFGAN library.\n",
    "tfgan = tf.contrib.gan\n",
    "\n",
    "# Shortcuts for later.\n",
    "slim = tf.contrib.slim\n",
    "layers = tf.contrib.layers\n",
    "ds = tf.contrib.distributions\n",
    "from datasets.data_downloader import mnist\n",
    "from datasets.tfrecord_reader import tfrecord_reader\n",
    "from visualization import gan"
   ]
  },
  {
   "cell_type": "code",
   "execution_count": null,
   "metadata": {},
   "outputs": [],
   "source": [
    "mnist.run('/home/dan/prj/datasets')"
   ]
  },
  {
   "cell_type": "code",
   "execution_count": null,
   "metadata": {},
   "outputs": [],
   "source": [
    "with tf.Graph().as_default(): \n",
    "    batch_size = 32\n",
    "    dataset = tfrecord_reader.get_split('mnist', 'train', '/home/dan/prj/datasets')\n",
    "    data_provider = slim.dataset_data_provider.DatasetDataProvider(\n",
    "            dataset, common_queue_capacity=2*batch_size, common_queue_min=batch_size)    \n",
    "\n",
    "    [image, label] = data_provider.get(['image', 'label'])\n",
    "    image = (tf.to_float(image) - 128.0) / 128.0\n",
    "    with tf.Session() as sess:\n",
    "        for i in range(0, 5):\n",
    "            np_image, np_label = sess.run([image, label])\n",
    "            plt.imshow(np.squeeze(data_np), cmap='gray')"
   ]
  },
  {
   "cell_type": "code",
   "execution_count": 4,
   "metadata": {},
   "outputs": [
    {
     "data": {
      "image/png": "[encoded data removed]",
      "text/plain": [
       "<matplotlib.figure.Figure at 0x7f8704363cf8>"
      ]
     },
     "metadata": {},
     "output_type": "display_data"
    }
   ],
   "source": [
    "with tf.Graph().as_default(): \n",
    "    batch_size = 32\n",
    "    dataset = tfrecord_reader.get_split('mnist', 'train', '/home/dan/prj/datasets')\n",
    "    data_provider = slim.dataset_data_provider.DatasetDataProvider(\n",
    "            dataset, common_queue_capacity=2*batch_size, common_queue_min=batch_size)    \n",
    "\n",
    "    [image, label] = data_provider.get(['image', 'label'])\n",
    "    with tf.Session() as sess:    \n",
    "        with slim.queues.QueueRunners(sess):\n",
    "            for i in range(4):\n",
    "                np_image, np_label = sess.run([image, label])\n",
    "                plt.imshow(np.squeeze(data_np), cmap='gray')\n"
   ]
  },
  {
   "cell_type": "code",
   "execution_count": 5,
   "metadata": {},
   "outputs": [],
   "source": [
    "with tf.Graph().as_default(): \n",
    "    batch_size = 32\n",
    "    dataset = tfrecord_reader.get_split('mnist', 'train', '/home/dan/prj/datasets')\n",
    "    data_provider = slim.dataset_data_provider.DatasetDataProvider(\n",
    "            dataset, common_queue_capacity=2*batch_size, common_queue_min=batch_size)    \n",
    "\n",
    "    [image, label] = data_provider.get(['image', 'label'])\n",
    "    image = (tf.to_float(image) - 128.0) / 128.0\n",
    "    images, labels = tf.train.batch(\n",
    "      [image, label],\n",
    "      batch_size=batch_size,\n",
    "      num_threads=4,\n",
    "      capacity=5 * batch_size)\n",
    "    #images.shape, TensorShape([Dimension(32), Dimension(28), Dimension(28), Dimension(1)])\n",
    "    imgs_to_visualize = tfgan.eval.image_reshaper(images[:20,...], num_cols=10)\n",
    "    # imgs_to_visualize.shape, TensorShape([Dimension(1), Dimension(56), Dimension(280), Dimension(1)])\n",
    "    images = gan.visualize_digits(imgs_to_visualize)\n",
    " "
   ]
  },
  {
   "cell_type": "code",
   "execution_count": null,
   "metadata": {},
   "outputs": [],
   "source": [
    "with tf.Session() as sess:\n",
    "    sess.run(labels)"
   ]
  },
  {
   "cell_type": "code",
   "execution_count": null,
   "metadata": {},
   "outputs": [],
   "source": []
  },
  {
   "cell_type": "code",
   "execution_count": null,
   "metadata": {},
   "outputs": [],
   "source": []
  },
  {
   "cell_type": "code",
   "execution_count": null,
   "metadata": {},
   "outputs": [],
   "source": []
  },
  {
   "cell_type": "code",
   "execution_count": null,
   "metadata": {},
   "outputs": [],
   "source": []
  },
  {
   "cell_type": "code",
   "execution_count": null,
   "metadata": {},
   "outputs": [],
   "source": []
  },
  {
   "cell_type": "markdown",
   "metadata": {},
   "source": [
    "# infogan"
   ]
  },
  {
   "cell_type": "code",
   "execution_count": null,
   "metadata": {},
   "outputs": [],
   "source": []
  }
 ],
 "metadata": {
  "kernelspec": {
   "display_name": "tf1.4p3",
   "language": "python",
   "name": "tf1.4p3"
  },
  "language_info": {
   "codemirror_mode": {
    "name": "ipython",
    "version": 3
   },
   "file_extension": ".py",
   "mimetype": "text/x-python",
   "name": "python",
   "nbconvert_exporter": "python",
   "pygments_lexer": "ipython3",
   "version": "3.5.2"
  }
 },
 "nbformat": 4,
 "nbformat_minor": 2
}
